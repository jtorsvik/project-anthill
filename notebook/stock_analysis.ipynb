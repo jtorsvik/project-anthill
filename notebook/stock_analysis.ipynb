{
 "cells": [
  {
   "cell_type": "code",
   "execution_count": 1,
   "id": "f8979e35",
   "metadata": {},
   "outputs": [],
   "source": [
    "import numpy as np\n",
    "import pandas as pd\n",
    "import matplotlib.pyplot as plt\n",
    "import seaborn as sns\n",
    "import requests, json, os, sys\n",
    "\n",
    "from datetime import datetime, timedelta, timezone\n",
    "\n",
    "from polygon import RESTClient"
   ]
  },
  {
   "cell_type": "code",
   "execution_count": 2,
   "id": "0dc8b87c",
   "metadata": {},
   "outputs": [],
   "source": [
    "sys.path.append(os.path.abspath(os.path.join('..', 'scripts')))\n",
    "\n",
    "from polygon_api import PolygonAPI"
   ]
  },
  {
   "cell_type": "code",
   "execution_count": 3,
   "id": "ec04c7e5",
   "metadata": {},
   "outputs": [],
   "source": [
    "client = RESTClient(api_key='rxdopHP51cQc3RtUbZrNj7Gy0CkpR2Qn')"
   ]
  },
  {
   "cell_type": "code",
   "execution_count": 4,
   "id": "2d238dfc",
   "metadata": {},
   "outputs": [],
   "source": [
    "from datetime import datetime, timedelta\n",
    "\n",
    "# Function to calculate the last working day\n",
    "def last_working_day():\n",
    "    today = datetime.now()\n",
    "    if today.weekday() == 0:\n",
    "        # If today is Monday, subtract three days to get Friday\n",
    "        last_working_day = today - timedelta(days=3)\n",
    "    elif today.weekday() <= 4:\n",
    "        last_working_day = today - timedelta(days=1)\n",
    "    # If today is Saturday, subtract one day to get Friday\n",
    "    elif today.weekday() == 5:\n",
    "        last_working_day = today - timedelta(days=1)\n",
    "    elif today.weekday() == 6:\n",
    "        last_working_day = today - timedelta(days=2)\n",
    "    \n",
    "    return last_working_day.strftime('%Y-%m-%d')"
   ]
  },
  {
   "cell_type": "code",
   "execution_count": 5,
   "id": "1ca73b7a",
   "metadata": {},
   "outputs": [],
   "source": [
    "tickers = ['AAPL', 'MSFT', 'GOOGL', 'IBM', 'AMZN', 'NVDA',\n",
    "          'XOM', 'CVX', 'WMT', 'MMM', 'ARE', 'ALLE', 'JPM',\n",
    "          'V', 'MA', 'PEP', 'CSCO', 'BA', 'ADBE', 'CAT', \n",
    "          'BLK', 'INTC', 'NKE', 'MDLZ']"
   ]
  },
  {
   "cell_type": "code",
   "execution_count": 6,
   "id": "e46704b1",
   "metadata": {},
   "outputs": [],
   "source": [
    "client = PolygonAPI()\n",
    "\n",
    "intra_day = last_working_day()"
   ]
  },
  {
   "cell_type": "code",
   "execution_count": 8,
   "id": "35557c36",
   "metadata": {},
   "outputs": [
    {
     "name": "stdout",
     "output_type": "stream",
     "text": [
      "Fetching data for: AAPL, on 2025-05-23\n",
      "Structuring data into a Pandas DataFrame...\n",
      "Saving intraday to parquet file...\n",
      "Data for AAPL written to C:/Users/jmtorsvik/git_repos/project-anthill/data/polygon/intraday/aapl/aapl_intraday_2025_05_23.parquet\n",
      "\n",
      "----------------------------\n",
      "\n",
      "Fetching data for: MSFT, on 2025-05-23\n",
      "Structuring data into a Pandas DataFrame...\n",
      "Saving intraday to parquet file...\n",
      "Data for MSFT written to C:/Users/jmtorsvik/git_repos/project-anthill/data/polygon/intraday/msft/msft_intraday_2025_05_23.parquet\n",
      "\n",
      "----------------------------\n",
      "\n",
      "Fetching data for: GOOGL, on 2025-05-23\n",
      "Structuring data into a Pandas DataFrame...\n",
      "Saving intraday to parquet file...\n",
      "Data for GOOGL written to C:/Users/jmtorsvik/git_repos/project-anthill/data/polygon/intraday/googl/googl_intraday_2025_05_23.parquet\n",
      "\n",
      "----------------------------\n",
      "\n",
      "Fetching data for: IBM, on 2025-05-23\n"
     ]
    },
    {
     "ename": "KeyboardInterrupt",
     "evalue": "",
     "output_type": "error",
     "traceback": [
      "\u001b[31m---------------------------------------------------------------------------\u001b[39m",
      "\u001b[31mKeyboardInterrupt\u001b[39m                         Traceback (most recent call last)",
      "\u001b[36mCell\u001b[39m\u001b[36m \u001b[39m\u001b[32mIn[8]\u001b[39m\u001b[32m, line 4\u001b[39m\n\u001b[32m      1\u001b[39m \u001b[38;5;28;01mfor\u001b[39;00m ticker \u001b[38;5;129;01min\u001b[39;00m tickers:\n\u001b[32m      3\u001b[39m     \u001b[38;5;28mprint\u001b[39m(\u001b[33mf\u001b[39m\u001b[33m\"\u001b[39m\u001b[33mFetching data for: \u001b[39m\u001b[38;5;132;01m{\u001b[39;00mticker\u001b[38;5;132;01m}\u001b[39;00m\u001b[33m, on \u001b[39m\u001b[38;5;132;01m{\u001b[39;00mintra_day\u001b[38;5;132;01m}\u001b[39;00m\u001b[33m\"\u001b[39m)\n\u001b[32m----> \u001b[39m\u001b[32m4\u001b[39m     intra_day_ticker = \u001b[43mclient\u001b[49m\u001b[43m.\u001b[49m\u001b[43mfetch_aggs_with_backoff\u001b[49m\u001b[43m(\u001b[49m\n\u001b[32m      5\u001b[39m \u001b[43m        \u001b[49m\u001b[43mticker\u001b[49m\u001b[43m=\u001b[49m\u001b[43mticker\u001b[49m\u001b[43m,\u001b[49m\u001b[43m \u001b[49m\n\u001b[32m      6\u001b[39m \u001b[43m        \u001b[49m\u001b[43mfrom_date\u001b[49m\u001b[43m=\u001b[49m\u001b[43mintra_day\u001b[49m\u001b[43m,\u001b[49m\u001b[43m \u001b[49m\n\u001b[32m      7\u001b[39m \u001b[43m        \u001b[49m\u001b[43mto_date\u001b[49m\u001b[43m=\u001b[49m\u001b[43mintra_day\u001b[49m\u001b[43m,\u001b[49m\u001b[43m \u001b[49m\n\u001b[32m      8\u001b[39m \u001b[43m        \u001b[49m\u001b[43mlimit\u001b[49m\u001b[43m=\u001b[49m\u001b[32;43m50000\u001b[39;49m\u001b[43m,\u001b[49m\n\u001b[32m      9\u001b[39m \u001b[43m        \u001b[49m\u001b[43msleep\u001b[49m\u001b[43m=\u001b[49m\u001b[38;5;28;43;01mTrue\u001b[39;49;00m\n\u001b[32m     10\u001b[39m \u001b[43m        \u001b[49m\u001b[43m)\u001b[49m\n\u001b[32m     12\u001b[39m     \u001b[38;5;28mprint\u001b[39m(\u001b[33m\"\u001b[39m\u001b[33mStructuring data into a Pandas DataFrame...\u001b[39m\u001b[33m\"\u001b[39m)\n\u001b[32m     13\u001b[39m     df = pd.DataFrame(intra_day_ticker).T\n",
      "\u001b[36mFile \u001b[39m\u001b[32mc:\\Users\\jmtorsvik\\git_repos\\project-anthill\\scripts\\polygon_api.py:31\u001b[39m, in \u001b[36mPolygonAPI.fetch_aggs_with_backoff\u001b[39m\u001b[34m(self, ticker, from_date, to_date, multiplier, timespan, limit, sleep)\u001b[39m\n\u001b[32m     29\u001b[39m         aggs[timestamp] = a.\u001b[34m__dict__\u001b[39m\n\u001b[32m     30\u001b[39m         \u001b[38;5;28;01mif\u001b[39;00m sleep:\n\u001b[32m---> \u001b[39m\u001b[32m31\u001b[39m             \u001b[43mtime\u001b[49m\u001b[43m.\u001b[49m\u001b[43msleep\u001b[49m\u001b[43m(\u001b[49m\u001b[32;43m0.25\u001b[39;49m\u001b[43m)\u001b[49m  \u001b[38;5;66;03m# small delay between pages\u001b[39;00m\n\u001b[32m     32\u001b[39m     \u001b[38;5;28;01mbreak\u001b[39;00m  \u001b[38;5;66;03m# exit loop if successful\u001b[39;00m\n\u001b[32m     34\u001b[39m \u001b[38;5;28;01mexcept\u001b[39;00m HTTPError \u001b[38;5;28;01mas\u001b[39;00m e:\n",
      "\u001b[31mKeyboardInterrupt\u001b[39m: "
     ]
    }
   ],
   "source": [
    "for ticker in tickers:\n",
    "\n",
    "    print(f\"Fetching data for: {ticker}, on {intra_day}\")\n",
    "    intra_day_ticker = client.fetch_aggs_with_backoff(\n",
    "        ticker=ticker, \n",
    "        from_date=intra_day, \n",
    "        to_date=intra_day, \n",
    "        limit=50000,\n",
    "        sleep=True\n",
    "        )\n",
    "\n",
    "    print(\"Structuring data into a Pandas DataFrame...\")\n",
    "    df = pd.DataFrame(intra_day_ticker).T\n",
    "\n",
    "    print(\"Saving intraday to parquet file...\")\n",
    "    sink_root_path = f'C:/Users/jmtorsvik/git_repos/project-anthill/data/polygon/intraday/{ticker.lower()}/{ticker.lower()}_intraday_{intra_day.replace('-', '_')}.parquet'\n",
    "    df.to_parquet(sink_root_path, index=True)\n",
    "    print(f\"Data for {ticker} written to {sink_root_path}\\n\")\n",
    "\n",
    "    print(\"----------------------------\\n\")\n"
   ]
  },
  {
   "cell_type": "code",
   "execution_count": 11,
   "id": "24c4a172",
   "metadata": {},
   "outputs": [
    {
     "ename": "NameError",
     "evalue": "name 'ibm' is not defined",
     "output_type": "error",
     "traceback": [
      "\u001b[31m---------------------------------------------------------------------------\u001b[39m",
      "\u001b[31mNameError\u001b[39m                                 Traceback (most recent call last)",
      "\u001b[36mCell\u001b[39m\u001b[36m \u001b[39m\u001b[32mIn[11]\u001b[39m\u001b[32m, line 2\u001b[39m\n\u001b[32m      1\u001b[39m fig, axes = plt.subplots(\u001b[32m1\u001b[39m, \u001b[32m2\u001b[39m, figsize=(\u001b[32m15\u001b[39m, \u001b[32m3\u001b[39m), sharex=\u001b[38;5;28;01mTrue\u001b[39;00m)\n\u001b[32m----> \u001b[39m\u001b[32m2\u001b[39m \u001b[43mibm\u001b[49m[\u001b[33m'\u001b[39m\u001b[33msimple_return\u001b[39m\u001b[33m'\u001b[39m].plot(ax=axes[\u001b[32m0\u001b[39m], title=\u001b[33m'\u001b[39m\u001b[33mSimple Return\u001b[39m\u001b[33m'\u001b[39m, color=\u001b[33m'\u001b[39m\u001b[33mblue\u001b[39m\u001b[33m'\u001b[39m)\n\u001b[32m      3\u001b[39m ibm[\u001b[33m'\u001b[39m\u001b[33mlog_return\u001b[39m\u001b[33m'\u001b[39m].plot(ax=axes[\u001b[32m1\u001b[39m], title=\u001b[33m'\u001b[39m\u001b[33mLog Return\u001b[39m\u001b[33m'\u001b[39m, color=\u001b[33m'\u001b[39m\u001b[33mred\u001b[39m\u001b[33m'\u001b[39m)\n\u001b[32m      5\u001b[39m \u001b[38;5;28;01mfor\u001b[39;00m ax \u001b[38;5;129;01min\u001b[39;00m axes:\n",
      "\u001b[31mNameError\u001b[39m: name 'ibm' is not defined"
     ]
    },
    {
     "data": {
      "image/png": "[encoded data removed]",
      "text/plain": [
       "<Figure size 1500x300 with 2 Axes>"
      ]
     },
     "metadata": {},
     "output_type": "display_data"
    }
   ],
   "source": [
    "fig, axes = plt.subplots(1, 2, figsize=(15, 3), sharex=True)\n",
    "ibm['simple_return'].plot(ax=axes[0], title='Simple Return', color='blue')\n",
    "ibm['log_return'].plot(ax=axes[1], title='Log Return', color='red')\n",
    "\n",
    "for ax in axes:\n",
    "    for label in ax.get_xticklabels():\n",
    "        label.set_rotation(45)\n",
    "\n",
    "plt.tight_layout()\n",
    "plt.show()\n",
    "\n",
    "print(f\"Simple Return: {round(ibm['simple_return'].mean() * 100, 5)} %\")\n",
    "print(f\"Log Return: {round(ibm['log_return'].mean() * 100, 5)} %\")"
   ]
  }
 ],
 "metadata": {
  "kernelspec": {
   "display_name": "Python 3",
   "language": "python",
   "name": "python3"
  },
  "language_info": {
   "codemirror_mode": {
    "name": "ipython",
    "version": 3
   },
   "file_extension": ".py",
   "mimetype": "text/x-python",
   "name": "python",
   "nbconvert_exporter": "python",
   "pygments_lexer": "ipython3",
   "version": "3.13.3"
  }
 },
 "nbformat": 4,
 "nbformat_minor": 5
}
